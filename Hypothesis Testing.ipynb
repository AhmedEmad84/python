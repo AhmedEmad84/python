{
 "cells": [
  {
   "cell_type": "code",
   "execution_count": 1,
   "metadata": {},
   "outputs": [],
   "source": [
    "import pandas as pd\n",
    "import numpy as np\n",
    "import matplotlib.pyplot as plt\n",
    "import statsmodels.api as sm\n",
    "import seaborn as sns\n",
    "from scipy.stats import norm\n",
    "pd.options.display.float_format = '{:,.3f}'.format\n",
    "pd.options.display.max_rows = None\n",
    "pd.options.display.max_columns = None"
   ]
  },
  {
   "cell_type": "code",
   "execution_count": 2,
   "metadata": {},
   "outputs": [],
   "source": [
    "df = pd.read_csv('GC=F.csv')"
   ]
  },
  {
   "cell_type": "code",
   "execution_count": 3,
   "metadata": {},
   "outputs": [],
   "source": [
    "df = df[['Date', 'Adj Close']]\n",
    "df = df.set_index('Date')\n"
   ]
  },
  {
   "cell_type": "markdown",
   "metadata": {},
   "source": [
    "#### Daily Return = (df[t] / df[t-1]) - 1"
   ]
  },
  {
   "cell_type": "code",
   "execution_count": 4,
   "metadata": {},
   "outputs": [],
   "source": [
    "df['dr']= (df/ df.shift(1)) -1\n",
    "df['log'] = np.log(df['Adj Close'].shift(-1)) - np.log(df['Adj Close'])"
   ]
  },
  {
   "cell_type": "code",
   "execution_count": 5,
   "metadata": {},
   "outputs": [],
   "source": [
    "df.iloc[0,1] = 0"
   ]
  },
  {
   "cell_type": "code",
   "execution_count": 6,
   "metadata": {},
   "outputs": [
    {
     "name": "stdout",
     "output_type": "stream",
     "text": [
      "<class 'pandas.core.frame.DataFrame'>\n",
      "Index: 5412 entries, 2000-08-30 to 2022-03-25\n",
      "Data columns (total 3 columns):\n",
      " #   Column     Non-Null Count  Dtype  \n",
      "---  ------     --------------  -----  \n",
      " 0   Adj Close  5412 non-null   float64\n",
      " 1   dr         5412 non-null   float64\n",
      " 2   log        5411 non-null   float64\n",
      "dtypes: float64(3)\n",
      "memory usage: 169.1+ KB\n"
     ]
    }
   ],
   "source": [
    "df.info()"
   ]
  },
  {
   "cell_type": "code",
   "execution_count": 7,
   "metadata": {},
   "outputs": [],
   "source": [
    "df = df.loc['2018-01-01' : '2022-01-01', :]"
   ]
  },
  {
   "cell_type": "code",
   "execution_count": 8,
   "metadata": {},
   "outputs": [],
   "source": [
    "df = df.rename(columns={'Adj Close' : 'close'})"
   ]
  },
  {
   "cell_type": "code",
   "execution_count": 9,
   "metadata": {},
   "outputs": [
    {
     "data": {
      "image/png": "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",
      "text/plain": [
       "<Figure size 432x288 with 1 Axes>"
      ]
     },
     "metadata": {
      "needs_background": "light"
     },
     "output_type": "display_data"
    }
   ],
   "source": [
    "df.close.plot()\n",
    "plt.xticks(rotation= 60);"
   ]
  },
  {
   "cell_type": "markdown",
   "metadata": {},
   "source": [
    "### We need to test if the mean of OIL Daily Return = 0 or not\n",
    "our HT will be:\n",
    "$$H0: mean = 0$$\n",
    "$$H1: mean <> 0$$"
   ]
  },
  {
   "cell_type": "markdown",
   "metadata": {},
   "source": [
    "1- I am going to use the equation of zscore\n",
    "$$Z = (x-μ)/σ$$\n",
    "\n",
    "Z\t=\tstandard score<br>\n",
    "x\t=\tobserved value<br>\n",
    "μ\t=\tmean of the sample<br>\n",
    "σ\t=\tstandard deviation of the sample\n"
   ]
  },
  {
   "cell_type": "code",
   "execution_count": 10,
   "metadata": {},
   "outputs": [
    {
     "data": {
      "text/plain": [
       "1.2552447608460489"
      ]
     },
     "execution_count": 10,
     "metadata": {},
     "output_type": "execute_result"
    }
   ],
   "source": [
    "mean = df.dr.mean()\n",
    "std = df.dr.std(ddof=1)\n",
    "n = df.shape[0]\n",
    "zscore = (mean - 0) / (std/np.sqrt(n))\n",
    "zscore"
   ]
  },
  {
   "cell_type": "markdown",
   "metadata": {},
   "source": [
    "### confidence level using scipy.stats model"
   ]
  },
  {
   "cell_type": "code",
   "execution_count": 11,
   "metadata": {},
   "outputs": [
    {
     "name": "stdout",
     "output_type": "stream",
     "text": [
      "-1.9599639845400545 1.9599639845400545\n"
     ]
    }
   ],
   "source": [
    "\n",
    "alpha = 0.05\n",
    "\n",
    "zleft = norm.ppf(alpha/2, 0, 1)\n",
    "zright = -zleft  # z-distribution is symmetric \n",
    "print(zleft, zright)"
   ]
  },
  {
   "cell_type": "markdown",
   "metadata": {},
   "source": [
    "### Calculating Zscore using Center Limit Theorm and Simulating from Null Hypothesis (Mean = 0)"
   ]
  },
  {
   "cell_type": "code",
   "execution_count": 12,
   "metadata": {},
   "outputs": [
    {
     "data": {
      "image/png": "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",
      "text/plain": [
       "<Figure size 432x288 with 1 Axes>"
      ]
     },
     "metadata": {
      "needs_background": "light"
     },
     "output_type": "display_data"
    }
   ],
   "source": [
    "null_vals = np.random.normal(0,1, 10000)\n",
    "plt.hist(null_vals)\n",
    "plt.axvline(zright)\n",
    "plt.axvline(zleft)\n",
    "plt.axvline(zscore, c='black');"
   ]
  },
  {
   "cell_type": "markdown",
   "metadata": {},
   "source": [
    "## P-Value to decide if we will reject the Null or Fail to reject it."
   ]
  },
  {
   "cell_type": "code",
   "execution_count": 13,
   "metadata": {},
   "outputs": [
    {
     "name": "stdout",
     "output_type": "stream",
     "text": [
      "At significant level of 0.05, shall we reject: False\n"
     ]
    }
   ],
   "source": [
    "print('At significant level of {}, shall we reject: {}'.format(alpha, zscore>zright or zscore<zleft))"
   ]
  },
  {
   "cell_type": "markdown",
   "metadata": {},
   "source": [
    "### Calculating Zscore using Center Limit Theorm - BOOT STRAPING - and Simulating from Null Hypothesis (Mean = 0)"
   ]
  },
  {
   "cell_type": "code",
   "execution_count": 14,
   "metadata": {},
   "outputs": [],
   "source": [
    "means = []\n",
    "for _ in range(10000):\n",
    "    sample = df.dr.sample(df.shape[0], replace=True)\n",
    "    means.append(sample.mean())"
   ]
  },
  {
   "cell_type": "code",
   "execution_count": 15,
   "metadata": {},
   "outputs": [
    {
     "data": {
      "image/png": "iVBORw0KGgoAAAANSUhEUgAAAX0AAAD6CAYAAABNu5eFAAAAOXRFWHRTb2Z0d2FyZQBNYXRwbG90bGliIHZlcnNpb24zLjUuMSwgaHR0cHM6Ly9tYXRwbG90bGliLm9yZy/YYfK9AAAACXBIWXMAAAsTAAALEwEAmpwYAAASj0lEQVR4nO3df6zdd33f8edrDkkn6BqHeG5qW7WpXLYgdYFehdBOU1ZGflHVIFFqJhWLIpmtiUTVTqpTpIXSRQrTWiRUGuY2Hmbr4mQtXSxwl5lAhJCWHw4LSZzMyyU/FFtOfJuUUIqaLey9P87nloM5995j33PPtf15PqSj+z3v7+f7+X6/n3Pv63z9/X7PcaoKSVIf/s5qb4AkaXoMfUnqiKEvSR0x9CWpI4a+JHXE0JekjiwZ+kl+KMkDSb6e5HCS3271LUnuTzKb5I4k57f6Be35bJu/eaivG1v9SJKrV2yvJEkjZan79JMEeG1VfTvJa4CvAh8Gfh34XFXtS/Jp4OtVdWuSXwV+qqr+RZLtwLur6peSXArcDlwO/BjwReAnq+q7C6374osvrs2bN09gN89tT839NQBvWPfaVd4SrZYjR44A8MY3vnGq6/V378z00EMP/UVVrRs177ylFq7Bu8K329PXtEcBPwf881bfC3wUuBXY1qYB/gT4/fbGsQ3YV1WvAE8nmWXwBvA/Flr35s2bOXTo0FKb2L1f+veDIbzjQ29b5S3RarnyyisBuPfee6e6Xn/3zkxJnl1o3ljn9JOsSfIwcAI4CHwD+GZVvdqaHAU2tOkNwHMAbf7LwOuH6yOWkSRNwVihX1XfrarLgI0Mjs7/wUptUJKdSQ4lOTQ3N7dSq5GkLp3S3TtV9U3gy8DbgAuTzJ8e2ggca9PHgE0Abf6PAC8O10csM7yO3VU1U1Uz69aNPCUlSTpN49y9sy7JhW367wLvAJ5gEP7vac12AHe16f3tOW3+l9p1gf3A9nZ3zxZgK/DAhPZDkjSGJS/kApcAe5OsYfAmcWdVfT7J48C+JP8G+J/Aba39bcB/bBdqXwK2A1TV4SR3Ao8DrwLXL3bnjiRp8sa5e+cR4M0j6k8xOL9/cv1vgF9coK+bgZtPfTMlSZPgJ3IlqSOGviR1xNCXpI6McyFXOmNt3vWFVVv3M7e8c9XWLZ0uj/QlqSOGviR1xNCXpI4Y+pLUEUNfkjpi6EtSRwx9SeqIoS9JHTH0Jakjhr4kdcTQl6SOGPqS1BFDX5I6YuhLUkcMfUnqiKEvSR0x9CWpI4a+JHXE0Jekjhj6ktQRQ1+SOmLoS1JHDH1J6siSoZ9kU5IvJ3k8yeEkH271jyY5luTh9rhuaJkbk8wmOZLk6qH6Na02m2TXyuySJGkh543R5lXgN6rqa0l+GHgoycE27xNV9e+GGye5FNgOvAn4MeCLSX6yzf4U8A7gKPBgkv1V9fgkdkSStLQlQ7+qjgPH2/RfJXkC2LDIItuAfVX1CvB0klng8jZvtqqeAkiyr7U19CVpSk7pnH6SzcCbgftb6YYkjyTZk2Rtq20Anhta7GirLVQ/eR07kxxKcmhubu5UNk+StISxQz/J64A/BX6tqr4F3Ar8BHAZg38J/O4kNqiqdlfVTFXNrFu3bhJdSpKacc7pk+Q1DAL/j6vqcwBV9cLQ/D8EPt+eHgM2DS2+sdVYpC5JmoJx7t4JcBvwRFX93lD9kqFm7wYea9P7ge1JLkiyBdgKPAA8CGxNsiXJ+Qwu9u6fzG5IksYxzpH+zwK/DDya5OFW+y3gfUkuAwp4BvgQQFUdTnIngwu0rwLXV9V3AZLcANwNrAH2VNXhie2JJGlJ49y981UgI2YdWGSZm4GbR9QPLLacJGll+YlcSeqIoS9JHTH0Jakjhr4kdcTQl6SOGPqS1BFDX5I6YuhLUkcMfUnqyFhfuCbpB23e9YVVWe8zt7xzVdarc4NH+pLUEUNfkjpi6EtSRzynr4lYrfPbkk6NR/qS1BFDX5I6YuhLUkcMfUnqiKEvSR0x9CWpI4a+JHXE0Jekjhj6ktQRQ1+SOmLoS1JHDH1J6oihL0kdWTL0k2xK8uUkjyc5nOTDrX5RkoNJnmw/17Z6knwyyWySR5K8ZaivHa39k0l2rNxuSZJGGedI/1XgN6rqUuAK4PoklwK7gHuqaitwT3sOcC2wtT12ArfC4E0CuAl4K3A5cNP8G4UkaTqWDP2qOl5VX2vTfwU8AWwAtgF7W7O9wLva9DbgszVwH3BhkkuAq4GDVfVSVf0lcBC4ZpI7I0la3Cmd00+yGXgzcD+wvqqOt1nPA+vb9AbguaHFjrbaQvWT17EzyaEkh+bm5k5l8yRJSxg79JO8DvhT4Neq6lvD86qqgJrEBlXV7qqaqaqZdevWTaJLSVIzVugneQ2DwP/jqvpcK7/QTtvQfp5o9WPApqHFN7baQnVJ0pSMc/dOgNuAJ6rq94Zm7Qfm78DZAdw1VH9/u4vnCuDldhrobuCqJGvbBdyrWk2SNCXj/MfoPwv8MvBokodb7beAW4A7k3wQeBZ4b5t3ALgOmAW+A3wAoKpeSvI7wIOt3ceq6qVJ7IQkaTxLhn5VfRXIArPfPqJ9Adcv0NceYM+pbKAkaXL8RK4kdcTQl6SOGPqS1BFDX5I6YuhLUkcMfUnqiKEvSR0x9CWpI4a+JHXE0Jekjhj6ktQRQ1+SOmLoS1JHDH1J6oihL0kdMfQlqSOGviR1xNCXpI4Y+pLUEUNfkjpi6EtSRwx9SeqIoS9JHTH0Jakjhr4kdcTQl6SOGPqS1JElQz/JniQnkjw2VPtokmNJHm6P64bm3ZhkNsmRJFcP1a9ptdkkuya/K5KkpYxzpP8Z4JoR9U9U1WXtcQAgyaXAduBNbZk/SLImyRrgU8C1wKXA+1pbSdIUnbdUg6r6SpLNY/a3DdhXVa8ATyeZBS5v82ar6imAJPta28dPfZMlSadrOef0b0jySDv9s7bVNgDPDbU52moL1X9Akp1JDiU5NDc3t4zNkySd7HRD/1bgJ4DLgOPA705qg6pqd1XNVNXMunXrJtWtJIkxTu+MUlUvzE8n+UPg8+3pMWDTUNONrcYidUnSlJzWkX6SS4aevhuYv7NnP7A9yQVJtgBbgQeAB4GtSbYkOZ/Bxd79p7/ZkqTTseSRfpLbgSuBi5McBW4CrkxyGVDAM8CHAKrqcJI7GVygfRW4vqq+2/q5AbgbWAPsqarDk94ZSdLixrl7530jyrct0v5m4OYR9QPAgVPaOknSRPmJXEnqiKEvSR0x9CWpI4a+JHXE0Jekjhj6ktQRQ1+SOmLoS1JHDH1J6oihL0kdMfQlqSOGviR1xNCXpI4Y+pLUEUNfkjpi6EtSRwx9SeqIoS9JHTH0Jakjhr4kdcTQl6SOGPqS1BFDX5I6YuhLUkcMfUnqiKEvSR0x9CWpI0uGfpI9SU4keWyodlGSg0mebD/XtnqSfDLJbJJHkrxlaJkdrf2TSXaszO5IkhYzzpH+Z4BrTqrtAu6pqq3APe05wLXA1vbYCdwKgzcJ4CbgrcDlwE3zbxSSpOk5b6kGVfWVJJtPKm8DrmzTe4F7gd9s9c9WVQH3JbkwySWt7cGqegkgyUEGbyS3L38XpL5s3vWFH6g9/9SLC86bpGdueeeK9q+Vd7rn9NdX1fE2/Tywvk1vAJ4bane01Raq/4AkO5McSnJobm7uNDdPkjTKsi/ktqP6msC2zPe3u6pmqmpm3bp1k+pWksTph/4L7bQN7eeJVj8GbBpqt7HVFqpLkqbodEN/PzB/B84O4K6h+vvbXTxXAC+300B3A1clWdsu4F7VapKkKVryQm6S2xlciL04yVEGd+HcAtyZ5IPAs8B7W/MDwHXALPAd4AMAVfVSkt8BHmztPjZ/UVeSND3j3L3zvgVmvX1E2wKuX6CfPcCeU9o6nbKVvntD0tnNT+RKUkcMfUnqiKEvSR0x9CWpI4a+JHXE0Jekjhj6ktQRQ1+SOmLoS1JHDH1J6oihL0kdMfQlqSOGviR1xNCXpI4Y+pLUEUNfkjpi6EtSRwx9SeqIoS9JHTH0Jakjhr4kdcTQl6SOGPqS1BFDX5I6YuhLUkcMfUnqiKEvSR1ZVugneSbJo0keTnKo1S5KcjDJk+3n2lZPkk8mmU3ySJK3TGIHJEnjm8SR/j+tqsuqaqY93wXcU1VbgXvac4Brga3tsRO4dQLrliSdgpU4vbMN2Num9wLvGqp/tgbuAy5McskKrF+StIDlhn4B/z3JQ0l2ttr6qjrepp8H1rfpDcBzQ8sebbXvk2RnkkNJDs3NzS1z8yRJw85b5vL/uKqOJfn7wMEk/2t4ZlVVkjqVDqtqN7AbYGZm5pSWlSQtbllH+lV1rP08AfwZcDnwwvxpm/bzRGt+DNg0tPjGVpMkTclph36S1yb54flp4CrgMWA/sKM12wHc1ab3A+9vd/FcAbw8dBpIkjQFyzm9sx74syTz/fznqvpvSR4E7kzyQeBZ4L2t/QHgOmAW+A7wgWWsW5J0Gk479KvqKeAfjai/CLx9RL2A6093fZKk5fMTuZLUEUNfkjpi6EtSRwx9SeqIoS9JHTH0Jakjhr4kdcTQl6SOLPcL1yR1ZPOuL5xSfVKeueWdK9p/TzzSl6SOGPqS1BFDX5I6YuhLUke8kLsCVvqi1pm2XklnD4/0Jakjhr4kdcTQl6SOGPqS1BFDX5I6YuhLUkcMfUnqiKEvSR0x9CWpI4a+JHXE0Jekjhj6ktSRqYd+kmuSHEkym2TXtNcvST2b6rdsJlkDfAp4B3AUeDDJ/qp6fCXW57dOSueG1fxbPtf+q8ZpH+lfDsxW1VNV9X+AfcC2KW+DJHVr2t+nvwF4buj5UeCtU94GSRrbav0rY6X+hXHG/ScqSXYCO9vTbyc5MuFVXAz8xYT7PBs5Dt9zzozFsx//+eUsfs6MwzKdEeOQjy9r8R9faMa0Q/8YsGno+cZW+1tVtRvYvVIbkORQVc2sVP9nC8fhexyLAcdh4Fwfh2mf038Q2JpkS5Lzge3A/ilvgyR1a6pH+lX1apIbgLuBNcCeqjo8zW2QpJ5N/Zx+VR0ADkx7vUNW7NTRWcZx+B7HYsBxGDinxyFVtdrbIEmaEr+GQZI6claHfpKLkhxM8mT7uXaBdjtamyeT7Biq/3SSR9tXQnwySVr9F5McTvL/ksyc1NeNrf2RJFev7B6OZwXHYWS/Sa5M8nKSh9vjX09nT0db6qs9klyQ5I42//4km4fmjXw9F+qz3YRwf6vf0W5IOCNMeRw+k+Tpod+By1Z6/8a1QuOwJ8mJJI+d1NdYf3tnlKo6ax/AvwV2teldwMdHtLkIeKr9XNum17Z5DwBXAAH+HLi21f8h8EbgXmBmqK9Lga8DFwBbgG8Aa87hcRjZL3Al8PnV3u+2LWva6/AG4Pz2+lx6UptfBT7dprcDdyz2ei7WJ3AnsL1Nfxr4l6s9Bqs0Dp8B3rPa+z2NcWjz/gnwFuCxk/pa8m/vTHuc1Uf6DL7CYW+b3gu8a0Sbq4GDVfVSVf0lcBC4JsklwN+rqvtq8Ip9dn75qnqiqkZ9KGwbsK+qXqmqp4FZBl8tsdpWZBzG7He1jfPVHsP78SfA29u/ZhZ6PUf22Zb5udYHnFljMrVxmMK+LMdKjANV9RXgpRHrOxv+Rr7P2R7666vqeJt+Hlg/os2or37Y0B5HR9QXs1Bfq22lxmGxft+W5OtJ/jzJm5a7A8swzmvyt22q6lXgZeD1iyy7UP31wDdbHwuta7VMcxzm3ZzkkSSfSHLBJHZiAlZiHBYzzt/eGeWM+xqGkyX5IvCjI2Z9ZPhJVVWSc/ZWpNUeh5P6/Rrw41X17STXAf8V2DrpdeqMdiODkDufwS2Ovwl8bFW3aJWdLRl0xod+Vf2zheYleSHJJVV1vJ2mODGi2TEG56DnbWRwrv5Ymx6uf99XQizQ16JfI7FSVmkcRvZbVd8a2q4DSf4gycVVtRrfVzLOazLf5miS84AfAV5cYtlR9ReBC5Oc144Qp/b6j2Ga48DQ0e0rSf4D8K8msA+TsFLjsJBx/vbOKGf76Z39wPxdKDuAu0a0uRu4KsnadmX9KuDu9kv7rSRXtPN5719g+ZPXt71d/d/C4Oj2gUnsyDKt1DiM7DfJj7a2JLmcwe/Ri5PfrbGM89Uew/vxHuBL7frFQq/nyD7bMl9ufcDCY70apjYOAC3gaL8H7wK+766WVbQS47CYcf72ziyrfSV5OQ8G5+HuAZ4Evghc1OozwB8NtfsVBhdlZoEPDNVnGPyyfgP4fb73YbV3Mzif9wrwAoNwnF/mI639EdpdLqv9WMFxWKjfG4DDDO50uA/4mVXe/+uA/922/yOt9jHgF9r0DwH/pe33A8Ablno9R/XZ6m9ofcy2Pi9Y7dd/lcbhS8Cj7ffmPwGvW+39X+FxuB04Dvzflg0fXOxv5Ex++IlcSerI2X56R5J0Cgx9SeqIoS9JHTH0Jakjhr4kdcTQl6SOGPqS1BFDX5I68v8BdigR9ctjt/AAAAAASUVORK5CYII=",
      "text/plain": [
       "<Figure size 432x288 with 1 Axes>"
      ]
     },
     "metadata": {
      "needs_background": "light"
     },
     "output_type": "display_data"
    }
   ],
   "source": [
    "null_vals = np.random.normal(0, np.std(means), 10000)\n",
    "plt.hist(null_vals)\n",
    "plt.axvline(np.percentile(null_vals, 2.5))\n",
    "plt.axvline(np.percentile(null_vals, 97.5))\n",
    "plt.axvline(mean, c='black');"
   ]
  },
  {
   "cell_type": "markdown",
   "metadata": {},
   "source": [
    "## P-Value to decide if we will reject the Null or Fail to reject it\n",
    "at segnificance level of 0.05 , 95% CI"
   ]
  },
  {
   "cell_type": "code",
   "execution_count": 16,
   "metadata": {},
   "outputs": [
    {
     "data": {
      "text/plain": [
       "0.1102"
      ]
     },
     "execution_count": 16,
     "metadata": {},
     "output_type": "execute_result"
    }
   ],
   "source": [
    "(null_vals > mean).mean()"
   ]
  },
  {
   "cell_type": "markdown",
   "metadata": {},
   "source": [
    "Pvalue > 0.05, so we Fail to reject the Null"
   ]
  },
  {
   "cell_type": "markdown",
   "metadata": {},
   "source": [
    "### Calculating CI using statsmodels.api model based on mean"
   ]
  },
  {
   "cell_type": "code",
   "execution_count": 17,
   "metadata": {},
   "outputs": [
    {
     "data": {
      "text/plain": [
       "(-0.00021284325067264323, 0.0009710753700912705)"
      ]
     },
     "execution_count": 17,
     "metadata": {},
     "output_type": "execute_result"
    }
   ],
   "source": [
    "sm.stats.DescrStatsW(df.dr).zconfint_mean()"
   ]
  },
  {
   "cell_type": "markdown",
   "metadata": {},
   "source": [
    "### Calculating CI using Numpy based on mean"
   ]
  },
  {
   "cell_type": "code",
   "execution_count": 18,
   "metadata": {},
   "outputs": [
    {
     "data": {
      "text/plain": [
       "(-0.0002231248716926537, 0.0009696291335637951)"
      ]
     },
     "execution_count": 18,
     "metadata": {},
     "output_type": "execute_result"
    }
   ],
   "source": [
    "np.percentile(means, 2.5), np.percentile(means, 97.5)"
   ]
  },
  {
   "cell_type": "markdown",
   "metadata": {},
   "source": [
    "### Calculating CI using scipy.stats based on ZScore"
   ]
  },
  {
   "cell_type": "code",
   "execution_count": 19,
   "metadata": {},
   "outputs": [
    {
     "name": "stdout",
     "output_type": "stream",
     "text": [
      "-1.6448536269514722 1.6448536269514722\n"
     ]
    }
   ],
   "source": [
    "# step 3\n",
    "alpha = 0.05\n",
    "\n",
    "zright = norm.ppf(1-alpha, 0, 1)\n",
    "zleft = -zright\n",
    "print(zleft,zright)"
   ]
  },
  {
   "cell_type": "markdown",
   "metadata": {},
   "source": [
    "### Calculating PValue"
   ]
  },
  {
   "cell_type": "code",
   "execution_count": 20,
   "metadata": {},
   "outputs": [
    {
     "name": "stdout",
     "output_type": "stream",
     "text": [
      "At significant level of 0.05, shall we reject: False\n"
     ]
    }
   ],
   "source": [
    "# step 4\n",
    "print('At significant level of {}, shall we reject: {}'.format(alpha, zscore>zright))"
   ]
  },
  {
   "cell_type": "markdown",
   "metadata": {},
   "source": [
    "### Calculating PValue using scipy.stats"
   ]
  },
  {
   "cell_type": "code",
   "execution_count": 21,
   "metadata": {},
   "outputs": [
    {
     "name": "stdout",
     "output_type": "stream",
     "text": [
      "0.10469496055371197\n"
     ]
    }
   ],
   "source": [
    "# step 3 (p-value)\n",
    "p = 1 - norm.cdf(zscore, 0, 1)\n",
    "print(p)"
   ]
  },
  {
   "cell_type": "code",
   "execution_count": 22,
   "metadata": {},
   "outputs": [
    {
     "name": "stdout",
     "output_type": "stream",
     "text": [
      "At significant level of 0.05, shall we reject: False\n"
     ]
    }
   ],
   "source": [
    "# step 4\n",
    "print('At significant level of {}, shall we reject: {}'.format(alpha, p < alpha))"
   ]
  },
  {
   "cell_type": "markdown",
   "metadata": {},
   "source": [
    "### We have 95% Confedince that the mean of Daily Return of OIL between '2018-01-01' : '2022-01-01' = 0.
   ]
  }
 ],
 "metadata": {
  "interpreter": {
   "hash": "40f67ad0d1efb81bca389a8d7159eaacb4b768bce6a275f5035dd42e98c71d6b"
  },
  "kernelspec": {
   "display_name": "Python 3.9.7 64-bit",
   "language": "python",
   "name": "python3"
  },
  "language_info": {
   "codemirror_mode": {
    "name": "ipython",
    "version": 3
   },
   "file_extension": ".py",
   "mimetype": "text/x-python",
   "name": "python",
   "nbconvert_exporter": "python",
   "pygments_lexer": "ipython3",
   "version": "3.9.7"
  },
  "orig_nbformat": 4
 },
 "nbformat": 4,
 "nbformat_minor": 2
}
